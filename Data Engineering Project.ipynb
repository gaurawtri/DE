{
 "cells": [
  {
   "cell_type": "markdown",
   "id": "bda85bd3",
   "metadata": {},
   "source": [
    "# Data Engineering Project \n",
    "\n",
    "## Project Title : Data Modeling with Apache Cassandra\n",
    "\n",
    "### Gauraw Kishore Tripathy \n"
   ]
  },
  {
   "cell_type": "code",
   "execution_count": 1,
   "id": "679ae5dc",
   "metadata": {},
   "outputs": [],
   "source": [
    "# Import Python packages \n",
    "import pandas as pd\n",
    "import re\n",
    "import os\n",
    "import glob\n",
    "import numpy as np\n",
    "import json\n",
    "import csv\n",
    "from cassandra.cluster import Cluster"
   ]
  },
  {
   "cell_type": "markdown",
   "id": "9cb65740",
   "metadata": {},
   "source": [
    "# Creating list of filepaths to process original event csv data files\n",
    "\n",
    "#### The below code performs the following operations:\n",
    "\n",
    "It prints the current working directory using the os.getcwd() function.\n",
    "\n",
    "It creates a file path variable named filepath by concatenating the current working directory obtained in the previous step with '/event_data'.\n",
    "\n",
    "It starts a loop that traverses through all the folders and subfolders within the filepath directory using the os.walk() function.\n",
    "\n",
    "Within each iteration of the loop, it uses the glob.glob() function along with os.path.join() to obtain a list of file paths within the current root directory and its subdirectories. The '*' parameter passed to os.path.join() ensures that all files within the specified directory are included in the list.\n",
    "\n",
    "Finally, it optionally prints the list of file paths, which is commented out in the provided code.\n",
    "\n",
    "In summary, this code is printing the current working directory and then collecting a list of file paths for all files within the 'event_data' directory and its subdirectories."
   ]
  },
  {
   "cell_type": "code",
   "execution_count": 2,
   "id": "ff4ecd1e",
   "metadata": {},
   "outputs": [
    {
     "name": "stdout",
     "output_type": "stream",
     "text": [
      "Current working directory : C:\\Users\\Gauraw\\MCA Sem-3\n"
     ]
    }
   ],
   "source": [
    "# checking current working directory\n",
    "print(f\"Current working directory : {os.getcwd()}\")\n",
    "\n",
    "# Get current folder and subfolder event data\n",
    "filepath = os.getcwd() + '/event_data'\n",
    "\n",
    "# Create a list of files and collect each filepath\n",
    "for root, dirs, files in os.walk(filepath):\n",
    "    \n",
    "# join the file path and roots with the subdirectories using glob\n",
    "    file_path_list = glob.glob(os.path.join(root,'*'))\n",
    "    #print(file_path_list)"
   ]
  },
  {
   "cell_type": "markdown",
   "id": "05805931",
   "metadata": {},
   "source": [
    "# Processing the files to create the data file csv that will be used for Apache Casssandra tables\n",
    "\n",
    "#### The below code performs the following operations:\n",
    "\n",
    "Initializes an empty list called full_data_rows_list which will be used to store the rows generated from each file.\n",
    "\n",
    "Iterates over each file path in the file_path_list.\n",
    "\n",
    "Opens each file using the open() function as a CSV file with the specified encoding.\n",
    "\n",
    "Creates a CSV reader object using the csv.reader() function to read the file.\n",
    "\n",
    "Skips the first line of the CSV file using the next() function, assuming it contains headers or irrelevant information.\n",
    "\n",
    "Iterates over each line in the CSV file using a for loop.\n",
    "\n",
    "Appends each line (data row) to the full_data_rows_list.\n",
    "\n",
    "Prints the total number of rows in full_data_rows_list and shows a sample of the data (the first 5 rows).\n",
    "\n",
    "Registers a custom CSV dialect using csv.register_dialect() specifying that all fields should be quoted and any initial white space should be skipped.\n",
    "\n",
    "Opens a new CSV file called \"event_datafile_new.csv\" in write mode with the specified encoding.\n",
    "\n",
    "Creates a CSV writer object using the csv.writer() function and the custom dialect.\n",
    "\n",
    "Writes the header row for the desired columns into the new CSV file.\n",
    "\n",
    "Iterates over each row in full_data_rows_list and writes specific columns to the new CSV file, omitting the row if the first column is empty.\n",
    "\n",
    "In summary, this code reads data from multiple CSV files, appends the rows to a list, and then writes a subset of the columns from those rows into a new CSV file named \"event_datafile_new.csv\" using a custom dialect. The specific columns written to the new file are 'artist', 'firstName', 'gender', 'itemInSession', 'lastName', 'length', 'level', 'location', 'sessionId', 'song', and 'userId'."
   ]
  },
  {
   "cell_type": "code",
   "execution_count": 3,
   "id": "12139970",
   "metadata": {},
   "outputs": [
    {
     "name": "stdout",
     "output_type": "stream",
     "text": [
      "Total rows : 8056\n",
      "Sample data:\n",
      " [['', 'Logged In', 'Walter', 'M', '0', 'Frye', '', 'free', 'San Francisco-Oakland-Hayward, CA', 'GET', 'Home', '1.54092E+12', '38', '', '200', '1.54111E+12', '39'], ['', 'Logged In', 'Kaylee', 'F', '0', 'Summers', '', 'free', 'Phoenix-Mesa-Scottsdale, AZ', 'GET', 'Home', '1.54034E+12', '139', '', '200', '1.54111E+12', '8'], [\"Des'ree\", 'Logged In', 'Kaylee', 'F', '1', 'Summers', '246.30812', 'free', 'Phoenix-Mesa-Scottsdale, AZ', 'PUT', 'NextSong', '1.54034E+12', '139', 'You Gotta Be', '200', '1.54111E+12', '8'], ['', 'Logged In', 'Kaylee', 'F', '2', 'Summers', '', 'free', 'Phoenix-Mesa-Scottsdale, AZ', 'GET', 'Upgrade', '1.54034E+12', '139', '', '200', '1.54111E+12', '8'], ['Mr Oizo', 'Logged In', 'Kaylee', 'F', '3', 'Summers', '144.03873', 'free', 'Phoenix-Mesa-Scottsdale, AZ', 'PUT', 'NextSong', '1.54034E+12', '139', 'Flat 55', '200', '1.54111E+12', '8']]\n"
     ]
    }
   ],
   "source": [
    "# initiating an empty list of rows that will be generated from each file\n",
    "full_data_rows_list = [] \n",
    "    \n",
    "# for every filepath in the file path list \n",
    "for f in file_path_list:\n",
    "\n",
    "# reading csv file \n",
    "    with open(f, 'r', encoding = 'utf8', newline='') as csvfile: \n",
    "        # creating a csv reader object \n",
    "        csvreader = csv.reader(csvfile) \n",
    "        next(csvreader)\n",
    "        \n",
    " # extracting each data row one by one and append it        \n",
    "        for line in csvreader:\n",
    "            full_data_rows_list.append(line) \n",
    "            \n",
    "\n",
    "print(f\"Total rows : {len(full_data_rows_list)}\")\n",
    "print(f\"Sample data:\\n {full_data_rows_list[:5]}\")\n",
    "\n",
    "# creating a smaller event data csv file called event_datafile_full csv that will be used to insert data into the\n",
    "# Apache Cassandra tables\n",
    "csv.register_dialect('myDialect', quoting=csv.QUOTE_ALL, skipinitialspace=True)\n",
    "\n",
    "with open('event_datafile_new.csv', 'w', encoding = 'utf8', newline='') as f:\n",
    "    writer = csv.writer(f, dialect='myDialect')\n",
    "    writer.writerow(['artist','firstName','gender','itemInSession','lastName','length',\\\n",
    "                'level','location','sessionId','song','userId'])\n",
    "    for row in full_data_rows_list:\n",
    "        if (row[0] == ''):\n",
    "            continue\n",
    "        writer.writerow((row[0], row[2], row[3], row[4], row[5], row[6], row[7], row[8], row[12], row[13], row[16]))"
   ]
  },
  {
   "cell_type": "code",
   "execution_count": 4,
   "id": "d9898a34",
   "metadata": {},
   "outputs": [
    {
     "name": "stdout",
     "output_type": "stream",
     "text": [
      "6821\n"
     ]
    }
   ],
   "source": [
    "# checking the number of rows in new event csv file\n",
    "with open('event_datafile_new.csv', 'r', encoding = 'utf8') as f:\n",
    "    print(sum(1 for line in f))"
   ]
  },
  {
   "cell_type": "markdown",
   "id": "85975a23",
   "metadata": {},
   "source": [
    "# Now we are ready to work with the CSV file titled event_datafile_new.csv, located within the Workspace directory. The event_datafile_new.csv contains the following columns:\n",
    "\n",
    "artist\n",
    "\n",
    "firstName of user\n",
    "\n",
    "gender of user\n",
    "\n",
    "item number in session\n",
    "\n",
    "last name of user\n",
    "\n",
    "length of the song\n",
    "\n",
    "level (paid or free song)\n",
    "\n",
    "location of the user\n",
    "\n",
    "sessionId\n",
    "\n",
    "song title\n",
    "\n",
    "userId\n",
    "\n",
    "Showing the denormalized data in the 'event_datafile_new.csv' after the code above is run below:"
   ]
  },
  {
   "cell_type": "code",
   "execution_count": 5,
   "id": "16b1fcd2",
   "metadata": {},
   "outputs": [
    {
     "data": {
      "text/html": [
       "<div>\n",
       "<style scoped>\n",
       "    .dataframe tbody tr th:only-of-type {\n",
       "        vertical-align: middle;\n",
       "    }\n",
       "\n",
       "    .dataframe tbody tr th {\n",
       "        vertical-align: top;\n",
       "    }\n",
       "\n",
       "    .dataframe thead th {\n",
       "        text-align: right;\n",
       "    }\n",
       "</style>\n",
       "<table border=\"1\" class=\"dataframe\">\n",
       "  <thead>\n",
       "    <tr style=\"text-align: right;\">\n",
       "      <th></th>\n",
       "      <th>artist</th>\n",
       "      <th>firstName</th>\n",
       "      <th>gender</th>\n",
       "      <th>itemInSession</th>\n",
       "      <th>lastName</th>\n",
       "      <th>length</th>\n",
       "      <th>level</th>\n",
       "      <th>location</th>\n",
       "      <th>sessionId</th>\n",
       "      <th>song</th>\n",
       "      <th>userId</th>\n",
       "    </tr>\n",
       "  </thead>\n",
       "  <tbody>\n",
       "    <tr>\n",
       "      <th>0</th>\n",
       "      <td>Des'ree</td>\n",
       "      <td>Kaylee</td>\n",
       "      <td>F</td>\n",
       "      <td>1</td>\n",
       "      <td>Summers</td>\n",
       "      <td>246.30812</td>\n",
       "      <td>free</td>\n",
       "      <td>Phoenix-Mesa-Scottsdale, AZ</td>\n",
       "      <td>139</td>\n",
       "      <td>You Gotta Be</td>\n",
       "      <td>8</td>\n",
       "    </tr>\n",
       "    <tr>\n",
       "      <th>1</th>\n",
       "      <td>Mr Oizo</td>\n",
       "      <td>Kaylee</td>\n",
       "      <td>F</td>\n",
       "      <td>3</td>\n",
       "      <td>Summers</td>\n",
       "      <td>144.03873</td>\n",
       "      <td>free</td>\n",
       "      <td>Phoenix-Mesa-Scottsdale, AZ</td>\n",
       "      <td>139</td>\n",
       "      <td>Flat 55</td>\n",
       "      <td>8</td>\n",
       "    </tr>\n",
       "    <tr>\n",
       "      <th>2</th>\n",
       "      <td>Tamba Trio</td>\n",
       "      <td>Kaylee</td>\n",
       "      <td>F</td>\n",
       "      <td>4</td>\n",
       "      <td>Summers</td>\n",
       "      <td>177.18812</td>\n",
       "      <td>free</td>\n",
       "      <td>Phoenix-Mesa-Scottsdale, AZ</td>\n",
       "      <td>139</td>\n",
       "      <td>Quem Quiser Encontrar O Amor</td>\n",
       "      <td>8</td>\n",
       "    </tr>\n",
       "    <tr>\n",
       "      <th>3</th>\n",
       "      <td>The Mars Volta</td>\n",
       "      <td>Kaylee</td>\n",
       "      <td>F</td>\n",
       "      <td>5</td>\n",
       "      <td>Summers</td>\n",
       "      <td>380.42077</td>\n",
       "      <td>free</td>\n",
       "      <td>Phoenix-Mesa-Scottsdale, AZ</td>\n",
       "      <td>139</td>\n",
       "      <td>Eriatarka</td>\n",
       "      <td>8</td>\n",
       "    </tr>\n",
       "    <tr>\n",
       "      <th>4</th>\n",
       "      <td>Infected Mushroom</td>\n",
       "      <td>Kaylee</td>\n",
       "      <td>F</td>\n",
       "      <td>6</td>\n",
       "      <td>Summers</td>\n",
       "      <td>440.26730</td>\n",
       "      <td>free</td>\n",
       "      <td>Phoenix-Mesa-Scottsdale, AZ</td>\n",
       "      <td>139</td>\n",
       "      <td>Becoming Insane</td>\n",
       "      <td>8</td>\n",
       "    </tr>\n",
       "  </tbody>\n",
       "</table>\n",
       "</div>"
      ],
      "text/plain": [
       "              artist firstName gender  itemInSession lastName     length  \\\n",
       "0            Des'ree    Kaylee      F              1  Summers  246.30812   \n",
       "1            Mr Oizo    Kaylee      F              3  Summers  144.03873   \n",
       "2         Tamba Trio    Kaylee      F              4  Summers  177.18812   \n",
       "3     The Mars Volta    Kaylee      F              5  Summers  380.42077   \n",
       "4  Infected Mushroom    Kaylee      F              6  Summers  440.26730   \n",
       "\n",
       "  level                     location  sessionId                          song  \\\n",
       "0  free  Phoenix-Mesa-Scottsdale, AZ        139                  You Gotta Be   \n",
       "1  free  Phoenix-Mesa-Scottsdale, AZ        139                       Flat 55   \n",
       "2  free  Phoenix-Mesa-Scottsdale, AZ        139  Quem Quiser Encontrar O Amor   \n",
       "3  free  Phoenix-Mesa-Scottsdale, AZ        139                     Eriatarka   \n",
       "4  free  Phoenix-Mesa-Scottsdale, AZ        139               Becoming Insane   \n",
       "\n",
       "   userId  \n",
       "0       8  \n",
       "1       8  \n",
       "2       8  \n",
       "3       8  \n",
       "4       8  "
      ]
     },
     "execution_count": 5,
     "metadata": {},
     "output_type": "execute_result"
    }
   ],
   "source": [
    "show_data = pd.read_csv(\"C:\\\\Users\\\\Gauraw\\MCA Sem-3\\\\event_datafile_new.csv\")\n",
    "show_data.head()"
   ]
  },
  {
   "cell_type": "markdown",
   "id": "b8a1a0ae",
   "metadata": {},
   "source": [
    "# Creating a Cluster\n",
    "\n",
    "#### Here's what the below code does:\n",
    "\n",
    "It tries to create a Cluster object by passing a list containing the IP address or hostname of the Cassandra cluster nodes. In this case, it uses the IP address '127.0.0.1', which typically refers to the localhost or the local machine.\n",
    "\n",
    "It then creates a session object by calling the connect() method on the Cluster object. The connect() method establishes a connection to the Cassandra cluster.\n",
    "\n",
    "If the connection is successfully established, it prints the message \"Connection Established !!\".\n",
    "\n",
    "If there is an exception during the connection attempt, it catches the exception and assigns it to the variable e. It then prints the message \"Connection Failed !!\" along with the specific error message captured in the e variable.\n",
    "\n",
    "In summary, this code attempts to connect to a Cassandra cluster running on the local machine using the IP address '127.0.0.1'. If the connection is successful, it prints a success message. If there is an error during the connection attempt, it prints an error message along with the specific error details.\n",
    "\n",
    "\n",
    "\n",
    "\n"
   ]
  },
  {
   "cell_type": "code",
   "execution_count": 6,
   "id": "26c80ac4",
   "metadata": {},
   "outputs": [
    {
     "name": "stdout",
     "output_type": "stream",
     "text": [
      "Connection Established !!\n"
     ]
    }
   ],
   "source": [
    "# This should make a connection to a Cassandra instance your local machine (127.0.0.1)\n",
    "\n",
    "try:\n",
    "    cluster = Cluster(['127.0.0.1'])\n",
    "    session = cluster.connect()\n",
    "    print(\"Connection Established !!\")\n",
    "except Exception as e:\n",
    "    print(f\"Connection Failed !! Error : {e}\")"
   ]
  },
  {
   "cell_type": "markdown",
   "id": "6a734bb5",
   "metadata": {},
   "source": [
    "# Creating Keyspace\n",
    "\n",
    "#### Here's what the below code does:\n",
    "\n",
    "It defines a multiline string variable named keyspace_query. This string contains the CQL (Cassandra Query Language) query for creating a keyspace named \"sparkify\" with a simple replication strategy and a replication factor of 1.\n",
    "\n",
    "It tries to execute the keyspace_query using the execute() method on the session object, which represents the connection to the Cassandra cluster.\n",
    "\n",
    "If the execution is successful, the keyspace is created in Cassandra.\n",
    "\n",
    "If there is an exception during the execution of the query, it catches the exception and assigns it to the variable e. It then prints the message \"Failed to create keyspace!!\" along with the specific error details captured in the e variable.\n",
    "\n",
    "In summary, this code attempts to create a keyspace named \"sparkify\" in the Cassandra cluster using a specified replication strategy and factor. If the keyspace creation is successful, it proceeds without any output. If there is an error, it prints an error message along with the specific error details."
   ]
  },
  {
   "cell_type": "code",
   "execution_count": 7,
   "id": "5b32c720",
   "metadata": {},
   "outputs": [],
   "source": [
    "keyspace_query = \"\"\"CREATE KEYSPACE IF NOT EXISTS sparkify \n",
    "                    with REPLICATION = \n",
    "                    { 'class' : 'SimpleStrategy', 'replication_factor' : 1 }\n",
    "                \"\"\"\n",
    "\n",
    "# Creating Keyspace\n",
    "try:\n",
    "    session.execute(keyspace_query)\n",
    "except Exception as e:\n",
    "    print(f\"Failed to create keyspace!! Error : {e}\")"
   ]
  },
  {
   "cell_type": "markdown",
   "id": "208bb72b",
   "metadata": {},
   "source": [
    "# Setting Keyspace"
   ]
  },
  {
   "cell_type": "code",
   "execution_count": 8,
   "id": "589d155f",
   "metadata": {},
   "outputs": [],
   "source": [
    "# Setting KEYSPACE to the keyspace specified above\n",
    "session.set_keyspace('sparkify')"
   ]
  },
  {
   "cell_type": "markdown",
   "id": "5b71ae93",
   "metadata": {},
   "source": [
    "# Now we will create tables to run the following queries. With Apache Cassandra we model the database tables on the queries we want to run.\n",
    "\n",
    "Below are the queries following which we will build out data model:\n",
    "\n",
    "1. Give the artist, song title and song's length in the music app history that was heard during sessionId = 338, and itemInSession = 4\n",
    "\n",
    "2. Give only the following: name of artist, song (sorted by itemInSession) and user (first and last name) for userid = 10, sessionid = 182\n",
    "\n",
    "3. Give every user name (first and last) in my music app history who listened to the song 'All Hands Against His Own'"
   ]
  },
  {
   "cell_type": "markdown",
   "id": "f03afd3f",
   "metadata": {},
   "source": [
    "# Query 1\n",
    "\n",
    "##### The below code is responsible for creating a table named \"session_item\" in Apache Cassandra. Here's what the code does:\n",
    "\n",
    "It defines a multiline string variable named create_query1. This string contains the CQL (Cassandra Query Language) query for creating the \"session_item\" table.\n",
    "\n",
    "The table is defined with the following columns:\n",
    "artist: text type\n",
    "song: text type\n",
    "length: float type\n",
    "sessionId: int type (used as part of the primary key)\n",
    "itemInSession: int type (used as part of the primary key)\n",
    "\n",
    "The primary key for the table consists of the sessionId and itemInSession columns.\n",
    "\n",
    "It tries to execute the create_query1 using the execute() method on the session object, which represents the connection to the Cassandra cluster.\n",
    "\n",
    "If the execution is successful, it prints the message \"Table Created!!\".\n",
    "\n",
    "If there is an exception during the execution of the query, it catches the exception and assigns it to the variable e. It then prints the message \"Table creation failed!!\" along with the specific error details captured in the e variable.\n",
    "\n",
    "In summary, this code attempts to create a table named \"session_item\" in Cassandra with specific columns and a primary key. If the table creation is successful, it prints a success message. If there is an error, it prints an error message along with the specific error details.\n",
    "\n",
    "#### For query 1, we need a way to run query on sessionId and itemInSession. So, our primary key must have these columns. We can partition the data on sessionId.\n",
    "\n",
    "Our Select query : SELECT artist, song, length FROM session_item where sessionId = 338 and itemInSession = 4\n",
    "\n",
    "Our Primary key will be (sessionId, itemInSession), where sessionId is the partition key and itemInSession is the clustering column."
   ]
  },
  {
   "cell_type": "code",
   "execution_count": 9,
   "id": "8b44340a",
   "metadata": {},
   "outputs": [
    {
     "name": "stdout",
     "output_type": "stream",
     "text": [
      "Table Created!!\n"
     ]
    }
   ],
   "source": [
    "# Creating table for query1 \n",
    "create_query1 = \"\"\"CREATE TABLE IF NOT EXISTS session_item (artist text, song text, length float, sessionId int, itemInSession int, PRIMARY KEY (sessionId, itemInSession))\"\"\"\n",
    "\n",
    "try: \n",
    "    session.execute(create_query1)\n",
    "    print(\"Table Created!!\")\n",
    "except Exception as e:\n",
    "    print(f\"Table creation failed!! Error : {e}\")"
   ]
  },
  {
   "cell_type": "markdown",
   "id": "a53aa7cc",
   "metadata": {},
   "source": [
    "#### The below code reads the CSV file named 'event_datafile_new.csv' and inserts its rows into a table named \"session_item\" in Apache Cassandra. Here's what the code does:\n",
    "\n",
    "It opens the CSV file named 'event_datafile_new.csv' using the open() function with the specified encoding ('utf8') and assigns it to the variable f.\n",
    "\n",
    "It creates a CSV reader object named csvreader using the csv.reader() function and passes the opened file (f) as a parameter.\n",
    "\n",
    "It skips the header row of the CSV file using the next(csvreader) function call, assuming the first line contains column headers and should not be inserted into the Cassandra table.\n",
    "\n",
    "It starts a loop that iterates over each line in the CSV file using a for loop.\n",
    "\n",
    "Inside the loop, it prepares an INSERT query for the \"session_item\" table by constructing a CQL string. The query specifies the columns to insert data into: artist, song, length, sessionId, and itemInSession.\n",
    "\n",
    "It appends the values from the current line of the CSV file to the query string using string concatenation.\n",
    "\n",
    "It executes the INSERT query using the execute() method on the session object, passing the query and a tuple of values extracted from the current line of the CSV file.\n",
    "\n",
    "line[0] represents the artist column value\n",
    "\n",
    "line[10] represents the song column value\n",
    "\n",
    "float(line[5]) represents the length column value (converted to a float)\n",
    "\n",
    "int(line[8]) represents the sessionId column value (converted to an int)\n",
    "\n",
    "int(line[3]) represents the itemInSession column value (converted to an int)\n",
    "\n",
    "In summary, this code reads the rows from a CSV file and inserts them into the \"session_item\" table in Cassandra, mapping the values from specific columns in the CSV file to the corresponding columns in the table."
   ]
  },
  {
   "cell_type": "code",
   "execution_count": 10,
   "id": "118e58ae",
   "metadata": {},
   "outputs": [],
   "source": [
    "# Using the event file\n",
    "file = 'event_datafile_new.csv'\n",
    "\n",
    "# Reading csv file and inserting rows into cassandra tables.\n",
    "with open(file, encoding = 'utf8') as f:\n",
    "    csvreader = csv.reader(f)\n",
    "    next(csvreader) # skip header\n",
    "    for line in csvreader:\n",
    "        query = \"INSERT INTO session_item (artist, song, length, sessionId, itemInSession) \"\n",
    "        query = query + \" VALUES (%s, %s, %s, %s, %s) \"\n",
    "        session.execute(query, (line[0], line[10], float(line[5]), int(line[8]), int(line[3])) )"
   ]
  },
  {
   "cell_type": "markdown",
   "id": "98ca16a4",
   "metadata": {},
   "source": [
    "# We will perform a SELECT to verify that the data have been inserted into each table\n",
    "\n",
    "#### The below code executes a SELECT query on the \"session_item\" table in Apache Cassandra and retrieves rows that match the specified criteria. Here's what the code does:\n",
    "\n",
    "It defines a string variable named select_query1 that represents a SELECT query. The query retrieves the artist, song, and length columns from the \"session_item\" table, filtering the rows based on sessionId = 338 and itemInSession = 4.\n",
    "\n",
    "It tries to execute the SELECT query using the execute() method on the session object, and assigns the result to the rows variable.\n",
    "\n",
    "If the execution is successful, the rows variable contains the result of the query.\n",
    "\n",
    "If there is an exception during the execution of the query, it catches the exception and prints the error message captured in the e variable.\n",
    "\n",
    "It iterates over the retrieved rows using a for loop.\n",
    "\n",
    "Inside the loop, it prints each row, which includes the artist, song, and length values.\n",
    "\n",
    "In summary, this code executes a SELECT query on the \"session_item\" table to retrieve specific rows that match the criteria sessionId = 338 and itemInSession = 4. It then iterates over the result set and prints the retrieved rows, displaying the artist, song, and length values for each row. This is useful for verifying that the data was correctly inserted into the table and obtaining the specific information for further processing or analysis."
   ]
  },
  {
   "cell_type": "code",
   "execution_count": 11,
   "id": "6f279ad5",
   "metadata": {},
   "outputs": [
    {
     "name": "stdout",
     "output_type": "stream",
     "text": [
      "Row(artist='Faithless', song='50', length=495.30731201171875)\n"
     ]
    }
   ],
   "source": [
    "# SELECT statement to verify the data was entered into the table\n",
    "select_query1 = \"SELECT artist, song, length FROM  session_item where sessionId = 338 and itemInSession = 4\"\n",
    "try:\n",
    "    rows = session.execute(select_query1)\n",
    "except Exception as e:\n",
    "    print(e)\n",
    "    \n",
    "for row in rows:\n",
    "    print(row)"
   ]
  },
  {
   "cell_type": "markdown",
   "id": "cf69cc09",
   "metadata": {},
   "source": [
    "# Query 2\n",
    "\n",
    "#### The below code is responsible for creating a table named \"user_session\" in Apache Cassandra. Here's what the code does:\n",
    "\n",
    "It defines a multiline string variable named create_query2. This string contains the CQL (Cassandra Query Language) query for creating the \"user_session\" table.\n",
    "\n",
    "The table is defined with the following columns:\n",
    "\n",
    "sessionId: int type\n",
    "\n",
    "userId: int type\n",
    "\n",
    "artist: text type\n",
    "\n",
    "song: text type\n",
    "\n",
    "firstName: text type\n",
    "\n",
    "lastName: text type\n",
    "\n",
    "itemInSession: int type\n",
    "\n",
    "The primary key for the table consists of a partition key (sessionId, userId) and a clustering column itemInSession with ascending clustering order (ASC).\n",
    "\n",
    "It tries to execute the create_query2 using the execute() method on the session object, which represents the connection to the Cassandra cluster.\n",
    "\n",
    "If the execution is successful, it prints the message \"Table Created!!\".\n",
    "\n",
    "If there is an exception during the execution of the query, it catches the exception and assigns it to the variable e. It then prints the message \"Table creation failed!!\" along with the specific error details captured in the e variable.\n",
    "\n",
    "In summary, this code attempts to create a table named \"user_session\" in Cassandra with specific columns and a primary key consisting of a partition key and a clustering column. If the table creation is successful, it prints a success message. If there is an error, it prints an error message along with the specific error details.\n",
    "\n",
    "#### For query 2, we need a way to run query on sessionId and userId. Also, we need the data sorted on itemInSession. So, our primary key must have these columns. We can partition the data on a composite key (sessionId, userId).\n",
    "\n",
    "Our Select query : SELECT artist, song, firstName, lastName FROM user_session where sessionId = 182 and userId = 10\n",
    "\n",
    "Our Primary key will be ((sessionId, userId), itemInSession)), where (sessionId, userId) is the partition key and itemInSession is the clustering column.\n",
    "\n",
    "Also, we are using the clause - WITH CLUSTERING ORDER BY (itemInSession ASC), to sort our data based on itemInSession\n",
    "\n",
    "Columns we included in the table : sessionId, userId, artist, song, firstName, lastName, itemInSession"
   ]
  },
  {
   "cell_type": "code",
   "execution_count": 12,
   "id": "8e384c99",
   "metadata": {},
   "outputs": [
    {
     "name": "stdout",
     "output_type": "stream",
     "text": [
      "Table Created!!\n"
     ]
    }
   ],
   "source": [
    "# Creating table for query2 \n",
    "create_query2 = \"\"\"CREATE TABLE IF NOT EXISTS user_session (sessionId int, userId int, artist text, song text, firstName text, lastName text, itemInSession int, PRIMARY KEY ((sessionId, userId), itemInSession)) WITH CLUSTERING ORDER BY (itemInSession ASC) \"\"\"\n",
    "\n",
    "try: \n",
    "    session.execute(create_query2)\n",
    "    print(\"Table Created!!\")\n",
    "except Exception as e:\n",
    "    print(f\"Table creation failed!! Error : {e}\")"
   ]
  },
  {
   "cell_type": "markdown",
   "id": "84fe37e4",
   "metadata": {},
   "source": [
    "#### The below code reads the CSV file named 'event_datafile_new.csv' and inserts its rows into a table named \"user_session\" in Apache Cassandra. Here's what the code does:\n",
    "\n",
    "Assigns the filename 'event_datafile_new.csv' to the variable file.\n",
    "\n",
    "Opens the CSV file named 'event_datafile_new.csv' using the open() function with the specified encoding ('utf8') and assigns it to the variable f.\n",
    "\n",
    "Creates a CSV reader object named csvreader using the csv.reader() function and passes the opened file (f) as a parameter.\n",
    "\n",
    "Skips the header row of the CSV file using the next(csvreader) function call, assuming the first line contains column headers and should not be inserted into the Cassandra table.\n",
    "\n",
    "Starts a loop that iterates over each line in the CSV file using a for loop.\n",
    "\n",
    "Inside the loop, it prepares an INSERT query for the \"user_session\" table by constructing a CQL string. The query specifies the columns to insert data into: sessionId, userId, artist, song, firstName, lastName, and itemInSession.\n",
    "\n",
    "Appends the values from the current line of the CSV file to the query string using string concatenation.\n",
    "\n",
    "Executes the INSERT query using the execute() method on the session object, passing the query and a tuple of values extracted from the current line of the CSV file.\n",
    "\n",
    "int(line[8]) represents the sessionId column value (converted to an int)\n",
    "\n",
    "int(line[10]) represents the userId column value (converted to an int)\n",
    "\n",
    "line[0] represents the artist column value\n",
    "\n",
    "line[9] represents the song column value\n",
    "\n",
    "line[1] represents the firstName column value\n",
    "\n",
    "line[4] represents the lastName column value\n",
    "\n",
    "int(line[3]) represents the itemInSession column value (converted to an int)\n",
    "\n",
    "In summary, this code reads the rows from a CSV file and inserts them into the \"user_session\" table in Cassandra, mapping the values from specific columns in the CSV file to the corresponding columns in the table."
   ]
  },
  {
   "cell_type": "code",
   "execution_count": 13,
   "id": "d044cbe9",
   "metadata": {},
   "outputs": [],
   "source": [
    "file = 'event_datafile_new.csv'\n",
    "\n",
    "# Reading csv file and inserting rows into cassandra tables.\n",
    "with open(file, encoding = 'utf8') as f:\n",
    "    csvreader = csv.reader(f)\n",
    "    next(csvreader) # skip header\n",
    "    for line in csvreader:\n",
    "        query = \"INSERT INTO user_session (sessionId, userId, artist, song, firstName, lastName, itemInSession) \"\n",
    "        query = query + \" VALUES (%s, %s, %s, %s, %s, %s, %s) \"\n",
    "        session.execute(query, (int(line[8]), int(line[10]), line[0], line[9], line[1], line[4], int(line[3])  ) )"
   ]
  },
  {
   "cell_type": "markdown",
   "id": "6add2b67",
   "metadata": {},
   "source": [
    "#### The below code executes a SELECT query on the \"user_session\" table in Apache Cassandra and retrieves rows that match the specified criteria. Here's what the code does:\n",
    "\n",
    "It defines a string variable named select_query2 that represents a SELECT query. The query retrieves the artist, song, firstName, and lastName columns from the \"user_session\" table, filtering the rows based on sessionId = 182 and userId = 10.\n",
    "\n",
    "It tries to execute the SELECT query using the execute() method on the session object, and assigns the result to the rows variable.\n",
    "\n",
    "If the execution is successful, the rows variable contains the result of the query.\n",
    "\n",
    "If there is an exception during the execution of the query, it catches the exception and prints the error message captured in the e variable.\n",
    "\n",
    "It iterates over the retrieved rows using a for loop.\n",
    "\n",
    "Inside the loop, it prints each row, which includes the artist, song, firstName, and lastName values.\n",
    "\n",
    "In summary, this code executes a SELECT query on the \"user_session\" table to retrieve specific rows that match the criteria sessionId = 182 and userId = 10. It then iterates over the result set and prints the retrieved rows, displaying the artist, song, firstName, and lastName values for each row. This is useful for obtaining the requested information about the user, session, and music data for further analysis or display."
   ]
  },
  {
   "cell_type": "code",
   "execution_count": 14,
   "id": "53f504b4",
   "metadata": {},
   "outputs": [
    {
     "name": "stdout",
     "output_type": "stream",
     "text": [
      "Row(artist='Down To The Bone', song=\"Keep On Keepin' On\", firstname='Sylvie', lastname='Cruz')\n",
      "Row(artist='Three Drives', song='Greece 2000', firstname='Sylvie', lastname='Cruz')\n",
      "Row(artist='Sebastien Tellier', song='Kilometer', firstname='Sylvie', lastname='Cruz')\n",
      "Row(artist='Lonnie Gordon', song='Catch You Baby (Steve Pitron & Max Sanna Radio Edit)', firstname='Sylvie', lastname='Cruz')\n"
     ]
    }
   ],
   "source": [
    "# SELECT statement to verify the data was entered into the table\n",
    "select_query2 = \"SELECT artist, song, firstName, lastName FROM  user_session where sessionId = 182 and userId = 10\"\n",
    "try:\n",
    "    rows = session.execute(select_query2)\n",
    "except Exception as e:\n",
    "    print(e)\n",
    "\n",
    "for row in rows:\n",
    "    print(row)"
   ]
  },
  {
   "cell_type": "markdown",
   "id": "8a2a7115",
   "metadata": {},
   "source": [
    "# Query 3\n",
    "\n",
    "#### The below code is responsible for creating a table named \"user_song\" in Apache Cassandra. Here's what the code does:\n",
    "\n",
    "It defines a multiline string variable named create_query3. This string contains the CQL (Cassandra Query Language) query for creating the \"user_song\" table.\n",
    "\n",
    "The table is defined with the following columns:\n",
    "\n",
    "song: text type\n",
    "\n",
    "userId: int type\n",
    "\n",
    "firstName: text type\n",
    "\n",
    "lastName: text type\n",
    "\n",
    "The primary key for the table consists of a partition key song and a clustering column userId.\n",
    "\n",
    "It tries to execute the create_query3 using the execute() method on the session object, which represents the connection to the Cassandra cluster.\n",
    "\n",
    "If the execution is successful, it prints the message \"Table Created!!\".\n",
    "\n",
    "If there is an exception during the execution of the query, it catches the exception and assigns it to the variable e. It then prints the message \"Table creation failed!!\" along with the specific error details captured in the e variable.\n",
    "\n",
    "In summary, this code attempts to create a table named \"user_song\" in Cassandra with specific columns and a primary key consisting of a partition key and a clustering column. If the table creation is successful, it prints a success message. If there is an error, it prints an error message along with the specific error details.\n",
    "\n",
    "#### For query 3, we need a way to run query on song. So, our primary key must have song. Also, the query should be such that it does not contain duplicate users for a song. So we need to model data in such a way that we don't allow duplicate users for a song in our table. This can be acheived by including userId in our primary key.\n",
    "\n",
    "Our Select query : SELECT song, firstName, lastName FROM user_song where song = 'All Hands Against His Own'\n",
    "\n",
    "Our Primary key will be ((song), userId)), where song is the partition key and userId is the clustering column.\n",
    "\n",
    "Columns we included in the table : song, userId, firstName, lastName"
   ]
  },
  {
   "cell_type": "code",
   "execution_count": 15,
   "id": "1954005a",
   "metadata": {},
   "outputs": [
    {
     "name": "stdout",
     "output_type": "stream",
     "text": [
      "Table Created!!\n"
     ]
    }
   ],
   "source": [
    "# Creating table for query3\n",
    "\n",
    "create_query3 = \"\"\"CREATE TABLE IF NOT EXISTS user_song (song text, userId int, firstName text, lastName text, PRIMARY KEY ((song), userId))\"\"\"\n",
    "\n",
    "try: \n",
    "    session.execute(create_query3)\n",
    "    print(\"Table Created!!\")\n",
    "except Exception as e:\n",
    "    print(f\"Table creation failed!! Error : {e}\")"
   ]
  },
  {
   "cell_type": "markdown",
   "id": "f1f681e8",
   "metadata": {},
   "source": [
    "#### The below code reads a CSV file named 'event_datafile_new.csv' and inserts its rows into a table named \"user_song\" in Apache Cassandra. Here's what the code does:\n",
    "\n",
    "It assigns the filename 'event_datafile_new.csv' to the variable file.\n",
    "\n",
    "It opens the CSV file named 'event_datafile_new.csv' using the open() function with the specified encoding ('utf8') and assigns it to the variable f.\n",
    "\n",
    "It creates a CSV reader object named csvreader using the csv.reader() function and passes the opened file (f) as a parameter.\n",
    "\n",
    "It skips the header row of the CSV file using the next(csvreader) function call, assuming the first line contains column headers and should not be inserted into the Cassandra table.\n",
    "\n",
    "It starts a loop that iterates over each line in the CSV file using a for loop.\n",
    "\n",
    "Inside the loop, it prepares an INSERT query for the \"user_song\" table by constructing a CQL string. The query specifies the columns to insert data into: song, userId, firstName, and lastName.\n",
    "\n",
    "It appends the values from the current line of the CSV file to the query string using string concatenation.\n",
    "\n",
    "It executes the INSERT query using the execute() method on the session object, passing the query and a tuple of values extracted from the current line of the CSV file.\n",
    "\n",
    "line[9] represents the song column value\n",
    "\n",
    "int(line[10]) represents the userId column value (converted to an int)\n",
    "\n",
    "line[1] represents the firstName column value\n",
    "\n",
    "line[4] represents the lastName column value\n",
    "\n",
    "In summary, this code reads the rows from a CSV file and inserts them into the \"user_song\" table in Cassandra, mapping the values from specific columns in the CSV file to the corresponding columns in the table."
   ]
  },
  {
   "cell_type": "code",
   "execution_count": 16,
   "id": "4e76132f",
   "metadata": {},
   "outputs": [],
   "source": [
    "file = 'event_datafile_new.csv'\n",
    "\n",
    "# Reading csv file and inserting rows into cassandra tables.\n",
    "with open(file, encoding = 'utf8') as f:\n",
    "    csvreader = csv.reader(f)\n",
    "    next(csvreader) # skip header\n",
    "    for line in csvreader:\n",
    "        query = \"INSERT INTO user_song (song, userId, firstName, lastName)\"\n",
    "        query = query + \" VALUES (%s, %s, %s, %s) \"\n",
    "        session.execute(query, (  line[9], int(line[10]), line[1], line[4] ))"
   ]
  },
  {
   "cell_type": "markdown",
   "id": "bab7770b",
   "metadata": {},
   "source": [
    "#### The below code executes a SELECT query on the \"user_song\" table in Apache Cassandra and retrieves rows that match the specified criteria. Here's what the code does:\n",
    "\n",
    "It defines a string variable named select_query3 that represents a SELECT query. The query retrieves the song, firstName, and lastName columns from the \"user_song\" table, filtering the rows based on song = 'All Hands Against His Own'.\n",
    "\n",
    "It tries to execute the SELECT query using the execute() method on the session object, and assigns the result to the rows variable.\n",
    "\n",
    "If the execution is successful, the rows variable contains the result of the query.\n",
    "\n",
    "If there is an exception during the execution of the query, it catches the exception and prints the error message captured in the e variable.\n",
    "\n",
    "It iterates over the retrieved rows using a for loop.\n",
    "\n",
    "Inside the loop, it prints each row, which includes the song, firstName, and lastName values.\n",
    "\n",
    "In summary, this code executes a SELECT query on the \"user_song\" table to retrieve specific rows that match the criteria song = 'All Hands Against His Own'. It then iterates over the result set and prints the retrieved rows, displaying the song, firstName, and lastName values for each row. This is useful for obtaining the names of users who listened to the song 'All Hands Against His Own' from the \"user_song\" table in Cassandra."
   ]
  },
  {
   "cell_type": "code",
   "execution_count": 17,
   "id": "5c282575",
   "metadata": {},
   "outputs": [
    {
     "name": "stdout",
     "output_type": "stream",
     "text": [
      "Row(song='All Hands Against His Own', firstname='Jacqueline', lastname='Lynch')\n",
      "Row(song='All Hands Against His Own', firstname='Tegan', lastname='Levine')\n",
      "Row(song='All Hands Against His Own', firstname='Sara', lastname='Johnson')\n"
     ]
    }
   ],
   "source": [
    "# SELECT statement to verify the data was entered into the table\n",
    "select_query3 = \"SELECT song, firstName, lastName FROM user_song where song = 'All Hands Against His Own'\"\n",
    "try:\n",
    "    rows = session.execute(select_query3)\n",
    "except Exception as e:\n",
    "    print(e)\n",
    "\n",
    "for row in rows:\n",
    "    print(row)"
   ]
  },
  {
   "cell_type": "markdown",
   "id": "719cb96e",
   "metadata": {},
   "source": [
    "# Drop the tables before closing out the sessions"
   ]
  },
  {
   "cell_type": "code",
   "execution_count": 18,
   "id": "20b3eabb",
   "metadata": {},
   "outputs": [
    {
     "data": {
      "text/plain": [
       "<cassandra.cluster.ResultSet at 0x16d2605e250>"
      ]
     },
     "execution_count": 18,
     "metadata": {},
     "output_type": "execute_result"
    }
   ],
   "source": [
    "session.execute(\"DROP TABLE IF EXISTS sparkify.session_item\")\n",
    "session.execute(\"DROP TABLE IF EXISTS sparkify.user_session\")\n",
    "session.execute(\"DROP TABLE IF EXISTS sparkify.user_song\")"
   ]
  },
  {
   "cell_type": "markdown",
   "id": "4afbc94a",
   "metadata": {},
   "source": [
    "# Close the session and cluster connection"
   ]
  },
  {
   "cell_type": "code",
   "execution_count": 19,
   "id": "5a26ed01",
   "metadata": {},
   "outputs": [],
   "source": [
    "session.shutdown()\n",
    "cluster.shutdown()"
   ]
  }
 ],
 "metadata": {
  "kernelspec": {
   "display_name": "Python 3 (ipykernel)",
   "language": "python",
   "name": "python3"
  },
  "language_info": {
   "codemirror_mode": {
    "name": "ipython",
    "version": 3
   },
   "file_extension": ".py",
   "mimetype": "text/x-python",
   "name": "python",
   "nbconvert_exporter": "python",
   "pygments_lexer": "ipython3",
   "version": "3.9.7"
  }
 },
 "nbformat": 4,
 "nbformat_minor": 5
}
